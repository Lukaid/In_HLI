{
 "cells": [
  {
   "cell_type": "code",
   "execution_count": 2,
   "metadata": {},
   "outputs": [],
   "source": [
    "import pandas as pd\n",
    "import numpy as np\n",
    "\n",
    "f_t_dis = pd.read_csv(\"from_to_distance.csv\")\n",
    "f_t_num = pd.read_csv(\"from_to_num.csv\")\n",
    "f_t_dis_2 = pd.read_csv(\"from_to_distance_2.csv\")"
   ]
  },
  {
   "cell_type": "code",
   "execution_count": 3,
   "metadata": {},
   "outputs": [
    {
     "name": "stdout",
     "output_type": "stream",
     "text": [
      "   tml_00000  tml_00001  tml_00002  tml_00003  tml_00004  tml_00005\n",
      "0       9999        206        125         66        300         68\n",
      "1        200       9999        102        185        116        177\n",
      "2        133        103       9999        100        196         85\n",
      "3         58        189        101       9999        277         13\n",
      "4        308        109        187        278       9999        267\n",
      "5         72        171         88         14        265       9999\n",
      "[[9999, 200, 133, 58, 308, 72], [206, 9999, 103, 189, 109, 171], [125, 102, 9999, 101, 187, 88], [66, 185, 100, 9999, 278, 14], [300, 116, 196, 277, 9999, 265], [68, 177, 85, 13, 267, 9999]]\n"
     ]
    }
   ],
   "source": [
    "s = pd.DataFrame(f_t_dis_2)\n",
    "print(s)\n",
    "s_col = ['tml_00000',  'tml_00001',  'tml_00002',  'tml_00003',  'tml_00004',  'tml_00005']\n",
    "cost = []\n",
    "for i in s_col:\n",
    "    cost.append(list(pd.Series(data = f_t_dis_2[i])))\n",
    "\n",
    "print(cost)\n",
    "\n",
    "\n"
   ]
  },
  {
   "cell_type": "code",
   "execution_count": 4,
   "metadata": {},
   "outputs": [
    {
     "data": {
      "text/plain": [
       "array([[ 0, 31, 34, 22, 33, 29],\n",
       "       [31,  0, 32, 24, 39, 32],\n",
       "       [28, 32,  0, 27, 33, 41],\n",
       "       [45, 31, 26,  0, 30, 34],\n",
       "       [30, 43, 34, 33,  0, 35],\n",
       "       [38, 35, 38, 47, 33,  0]])"
      ]
     },
     "execution_count": 4,
     "metadata": {},
     "output_type": "execute_result"
    }
   ],
   "source": [
    "\n",
    "s_col = ['tml_00000',  'tml_00001',  'tml_00002',  'tml_00003',  'tml_00004',  'tml_00005']\n",
    "quan = []\n",
    "for i in s_col:\n",
    "    quan.append(list(pd.Series(data = f_t_num[i])))\n",
    "\n",
    "a = np.array(quan)\n",
    "b = np.array(cost)\n",
    "a"
   ]
  },
  {
   "cell_type": "code",
   "execution_count": 5,
   "metadata": {},
   "outputs": [
    {
     "data": {
      "text/plain": [
       "4522"
      ]
     },
     "execution_count": 5,
     "metadata": {},
     "output_type": "execute_result"
    }
   ],
   "source": [
    "np.dot(cost, quan)\n",
    "a[0][2] * b[0][2]\n"
   ]
  },
  {
   "cell_type": "code",
   "execution_count": 6,
   "metadata": {},
   "outputs": [
    {
     "ename": "NameError",
     "evalue": "name 'solver' is not defined",
     "output_type": "error",
     "traceback": [
      "\u001b[1;31m---------------------------------------------------------------------------\u001b[0m",
      "\u001b[1;31mNameError\u001b[0m                                 Traceback (most recent call last)",
      "\u001b[1;32m<ipython-input-6-6d9665ea48b3>\u001b[0m in \u001b[0;36m<module>\u001b[1;34m\u001b[0m\n\u001b[1;32m----> 1\u001b[1;33m \u001b[0minfinity\u001b[0m \u001b[1;33m=\u001b[0m \u001b[0msolver\u001b[0m\u001b[1;33m.\u001b[0m\u001b[0minfinity\u001b[0m\u001b[1;33m(\u001b[0m\u001b[1;33m)\u001b[0m\u001b[1;33m\u001b[0m\u001b[1;33m\u001b[0m\u001b[0m\n\u001b[0m\u001b[0;32m      2\u001b[0m \u001b[0mvehi\u001b[0m \u001b[1;33m=\u001b[0m \u001b[1;33m[\u001b[0m\u001b[1;33m]\u001b[0m\u001b[1;33m\u001b[0m\u001b[1;33m\u001b[0m\u001b[0m\n\u001b[0;32m      3\u001b[0m \u001b[0mtmp\u001b[0m \u001b[1;33m=\u001b[0m \u001b[1;33m[\u001b[0m\u001b[1;33m]\u001b[0m\u001b[1;33m\u001b[0m\u001b[1;33m\u001b[0m\u001b[0m\n\u001b[0;32m      4\u001b[0m \u001b[1;33m\u001b[0m\u001b[0m\n\u001b[0;32m      5\u001b[0m \u001b[1;32mfor\u001b[0m \u001b[0mi\u001b[0m \u001b[1;32min\u001b[0m \u001b[0mrange\u001b[0m\u001b[1;33m(\u001b[0m\u001b[1;36m6\u001b[0m\u001b[1;33m)\u001b[0m\u001b[1;33m:\u001b[0m\u001b[1;33m\u001b[0m\u001b[1;33m\u001b[0m\u001b[0m\n",
      "\u001b[1;31mNameError\u001b[0m: name 'solver' is not defined"
     ]
    }
   ],
   "source": [
    "infinity = solver.infinity()\n",
    "vehi = []\n",
    "tmp = []\n",
    "\n",
    "for i in range(6):\n",
    "    tmp = []\n",
    "    for j in range(6):\n",
    "        tmp.append(solver.IntVar(0, infinity, 'vehi_{}{}'.format(i, j)))\n",
    "    vehi.append(tmp)\n",
    "\n",
    "vehi[0][0]\n",
    "\n",
    "\n"
   ]
  },
  {
   "cell_type": "code",
   "execution_count": 7,
   "metadata": {},
   "outputs": [
    {
     "name": "stdout",
     "output_type": "stream",
     "text": [
      "Number of variables = 36\n",
      "Solution:\n",
      "Objective value = 0.0\n"
     ]
    },
    {
     "ename": "NameError",
     "evalue": "name 'x' is not defined",
     "output_type": "error",
     "traceback": [
      "\u001b[1;31m---------------------------------------------------------------------------\u001b[0m",
      "\u001b[1;31mNameError\u001b[0m                                 Traceback (most recent call last)",
      "\u001b[1;32m<ipython-input-7-e6966948ef3e>\u001b[0m in \u001b[0;36m<module>\u001b[1;34m\u001b[0m\n\u001b[0;32m     34\u001b[0m     \u001b[0mprint\u001b[0m\u001b[1;33m(\u001b[0m\u001b[1;34m'Solution:'\u001b[0m\u001b[1;33m)\u001b[0m\u001b[1;33m\u001b[0m\u001b[1;33m\u001b[0m\u001b[0m\n\u001b[0;32m     35\u001b[0m     \u001b[0mprint\u001b[0m\u001b[1;33m(\u001b[0m\u001b[1;34m'Objective value ='\u001b[0m\u001b[1;33m,\u001b[0m \u001b[0msolver\u001b[0m\u001b[1;33m.\u001b[0m\u001b[0mObjective\u001b[0m\u001b[1;33m(\u001b[0m\u001b[1;33m)\u001b[0m\u001b[1;33m.\u001b[0m\u001b[0mValue\u001b[0m\u001b[1;33m(\u001b[0m\u001b[1;33m)\u001b[0m\u001b[1;33m)\u001b[0m\u001b[1;33m\u001b[0m\u001b[1;33m\u001b[0m\u001b[0m\n\u001b[1;32m---> 36\u001b[1;33m     \u001b[0mprint\u001b[0m\u001b[1;33m(\u001b[0m\u001b[1;34m'x ='\u001b[0m\u001b[1;33m,\u001b[0m \u001b[0mx\u001b[0m\u001b[1;33m.\u001b[0m\u001b[0msolution_value\u001b[0m\u001b[1;33m(\u001b[0m\u001b[1;33m)\u001b[0m\u001b[1;33m)\u001b[0m\u001b[1;33m\u001b[0m\u001b[1;33m\u001b[0m\u001b[0m\n\u001b[0m\u001b[0;32m     37\u001b[0m     \u001b[0mprint\u001b[0m\u001b[1;33m(\u001b[0m\u001b[1;34m'y ='\u001b[0m\u001b[1;33m,\u001b[0m \u001b[0my\u001b[0m\u001b[1;33m.\u001b[0m\u001b[0msolution_value\u001b[0m\u001b[1;33m(\u001b[0m\u001b[1;33m)\u001b[0m\u001b[1;33m)\u001b[0m\u001b[1;33m\u001b[0m\u001b[1;33m\u001b[0m\u001b[0m\n\u001b[0;32m     38\u001b[0m \u001b[1;32melse\u001b[0m\u001b[1;33m:\u001b[0m\u001b[1;33m\u001b[0m\u001b[1;33m\u001b[0m\u001b[0m\n",
      "\u001b[1;31mNameError\u001b[0m: name 'x' is not defined"
     ]
    }
   ],
   "source": [
    "from ortools.linear_solver import pywraplp\n",
    "\n",
    "solver = pywraplp.Solver.CreateSolver('SCIP')\n",
    "\n",
    "answer = 0\n",
    "\n",
    "infinity = solver.infinity()\n",
    "vehi = []\n",
    "tmp = []\n",
    "\n",
    "for i in range(6):\n",
    "    tmp = []\n",
    "    for j in range(6):\n",
    "        tmp.append(solver.IntVar(0, infinity, 'vehi_{}{}'.format(i, j)))\n",
    "    vehi.append(tmp)\n",
    "\n",
    "\n",
    "print('Number of variables =', solver.NumVariables())\n",
    "\n",
    "for i in range(6):\n",
    "    for j in range(6):\n",
    "        solver.Add(vehi[i][j] <= 3)\n",
    "\n",
    "for i in range(6):\n",
    "    for j in range(6):\n",
    "        answer += cost[i][j] * vehi[i][j]\n",
    "\n",
    "\n",
    "solver.Minimize(answer)\n",
    "\n",
    "status = solver.Solve()\n",
    "\n",
    "if status == pywraplp.Solver.OPTIMAL:\n",
    "    print('Solution:')\n",
    "    print('Objective value =', solver.Objective().Value())\n",
    "    print('x =', x.solution_value())\n",
    "    print('y =', y.solution_value())\n",
    "else:\n",
    "    print('The problem does not have an optimal solution.')\n",
    "\n"
   ]
  },
  {
   "cell_type": "code",
   "execution_count": 8,
   "metadata": {},
   "outputs": [
    {
     "data": {
      "text/plain": [
       "45"
      ]
     },
     "execution_count": 8,
     "metadata": {},
     "output_type": "execute_result"
    }
   ],
   "source": [
    "sum(j for j in range(10))"
   ]
  },
  {
   "cell_type": "code",
   "execution_count": 9,
   "metadata": {},
   "outputs": [],
   "source": [
    "from ortools.linear_solver import pywraplp\n",
    "import pandas as pd\n",
    "import numpy as np\n",
    "\n",
    "solver = pywraplp.Solver.CreateSolver('SCIP')\n",
    "\n",
    "\n",
    "for i in range(6):\n",
    "    tmp = []\n",
    "    for j in range(6):\n",
    "        tmp.append(solver.IntVar(0.0, infinity, 'vehi_{}{}'.format(i, j)))\n",
    "    vehi.append(tmp)"
   ]
  },
  {
   "cell_type": "code",
   "execution_count": 10,
   "metadata": {},
   "outputs": [
    {
     "name": "stdout",
     "output_type": "stream",
     "text": [
      "<class 'numpy.ndarray'>\n",
      "<class 'list'>\n"
     ]
    },
    {
     "data": {
      "text/plain": [
       "[array([1, 2, 3]), array([4, 5, 6]), array([7, 8, 9])]"
      ]
     },
     "execution_count": 10,
     "metadata": {},
     "output_type": "execute_result"
    }
   ],
   "source": [
    "a = np.array([[1,2,3],[4,5,6],[7,8,9]])\n",
    "b = [[1,2,3],[4,5,6],[7,8,9]]\n",
    "print(type(a))\n",
    "print(type(b))\n",
    "list(a)"
   ]
  },
  {
   "cell_type": "code",
   "execution_count": 11,
   "metadata": {},
   "outputs": [
    {
     "ename": "NameError",
     "evalue": "name 'pywrapgraph' is not defined",
     "output_type": "error",
     "traceback": [
      "\u001b[1;31m---------------------------------------------------------------------------\u001b[0m",
      "\u001b[1;31mNameError\u001b[0m                                 Traceback (most recent call last)",
      "\u001b[1;32m<ipython-input-11-564ec955ae86>\u001b[0m in \u001b[0;36m<module>\u001b[1;34m\u001b[0m\n\u001b[0;32m     19\u001b[0m \u001b[0msupplies\u001b[0m \u001b[1;33m=\u001b[0m \u001b[1;33m[\u001b[0m\u001b[1;36m20\u001b[0m\u001b[1;33m,\u001b[0m \u001b[1;33m-\u001b[0m\u001b[1;36m2\u001b[0m\u001b[1;33m,\u001b[0m \u001b[1;33m-\u001b[0m\u001b[1;36m3\u001b[0m\u001b[1;33m,\u001b[0m \u001b[1;33m-\u001b[0m\u001b[1;36m5\u001b[0m\u001b[1;33m,\u001b[0m \u001b[1;36m0\u001b[0m\u001b[1;33m,\u001b[0m \u001b[1;33m-\u001b[0m\u001b[1;36m10\u001b[0m\u001b[1;33m]\u001b[0m\u001b[1;33m\u001b[0m\u001b[1;33m\u001b[0m\u001b[0m\n\u001b[0;32m     20\u001b[0m \u001b[1;33m\u001b[0m\u001b[0m\n\u001b[1;32m---> 21\u001b[1;33m \u001b[0mmin_cost_flow\u001b[0m \u001b[1;33m=\u001b[0m \u001b[0mpywrapgraph\u001b[0m\u001b[1;33m.\u001b[0m\u001b[0mSimpleMinCostFlow\u001b[0m\u001b[1;33m(\u001b[0m\u001b[1;33m)\u001b[0m\u001b[1;33m\u001b[0m\u001b[1;33m\u001b[0m\u001b[0m\n\u001b[0m\u001b[0;32m     22\u001b[0m \u001b[1;33m\u001b[0m\u001b[0m\n\u001b[0;32m     23\u001b[0m \u001b[1;32mfor\u001b[0m \u001b[0mi\u001b[0m \u001b[1;32min\u001b[0m \u001b[0mrange\u001b[0m\u001b[1;33m(\u001b[0m\u001b[1;36m0\u001b[0m\u001b[1;33m,\u001b[0m \u001b[0mlen\u001b[0m\u001b[1;33m(\u001b[0m\u001b[0mstart_nodes\u001b[0m\u001b[1;33m)\u001b[0m\u001b[1;33m)\u001b[0m\u001b[1;33m:\u001b[0m\u001b[1;33m\u001b[0m\u001b[1;33m\u001b[0m\u001b[0m\n",
      "\u001b[1;31mNameError\u001b[0m: name 'pywrapgraph' is not defined"
     ]
    }
   ],
   "source": [
    "import pandas as pd\n",
    "import random\n",
    "\n",
    "f_t_dis = pd.read_csv(\"from_to_distance.csv\")\n",
    "\n",
    "pd.DataFrame(f_t_dis)\n",
    "\n",
    "start_nodes = []\n",
    "end_nodes   = []\n",
    "capacities  = []\n",
    "unit_costs  = []\n",
    "\n",
    "for i in range(len(f_t_dis.tmlfrm)):\n",
    "    start_nodes.append(f_t_dis.tmlfrm[i])\n",
    "    end_nodes.append(f_t_dis.tmltto[i])\n",
    "    unit_costs.append(f_t_dis.distance[i])\n",
    "    capacities.append(random.randrange(0, 10))\n",
    "\n",
    "supplies = [20, -2, -3, -5, 0, -10]\n",
    "\n",
    "min_cost_flow = pywrapgraph.SimpleMinCostFlow()\n",
    "\n",
    "for i in range(0, len(start_nodes)):\n",
    "    min_cost_flow.AddArcWithCapacityAndUnitCost(start_nodes[i], end_nodes[i],\n",
    "    capacities[i], unit_costs[i])\n",
    "\n",
    "for i in range(0, len(supplies)):\n",
    "    min_cost_flow.SetNodeSupply(i, supplies[i])\n"
   ]
  },
  {
   "cell_type": "code",
   "execution_count": 12,
   "metadata": {},
   "outputs": [
    {
     "name": "stdout",
     "output_type": "stream",
     "text": [
      "Minimum cost: 150\n",
      "\n",
      "  Arc    Flow / Capacity  Cost\n",
      "0 -> 1    12  /  15        48\n",
      "0 -> 2     8  /   8        32\n",
      "1 -> 2     8  /  20        16\n",
      "1 -> 3     4  /   4         8\n",
      "1 -> 4     0  /  10         0\n",
      "2 -> 3    12  /  15        12\n",
      "2 -> 4     4  /   4        12\n",
      "3 -> 4    11  /  20        22\n",
      "4 -> 2     0  /   5         0\n"
     ]
    }
   ],
   "source": [
    "# \"\"\"From Bradley, Hax, and Magnanti, 'Applied Mathematical Programming', figure 8.1.\"\"\"\n",
    "\n",
    "from __future__ import print_function\n",
    "from ortools.graph import pywrapgraph\n",
    "\n",
    "def main():\n",
    "  \"\"\"MinCostFlow simple interface example.\"\"\"\n",
    "\n",
    "  # Define four parallel arrays: start_nodes, end_nodes, capacities, and unit costs\n",
    "  # between each pair. For instance, the arc from node 0 to node 1 has a\n",
    "  # capacity of 15 and a unit cost of 4.\n",
    "\n",
    "  start_nodes = [ 0, 0,  1, 1,  1,  2, 2,  3, 4]\n",
    "  end_nodes   = [ 1, 2,  2, 3,  4,  3, 4,  4, 2]\n",
    "  capacities  = [15, 8, 20, 4, 10, 15, 4, 20, 5]\n",
    "  unit_costs  = [ 4, 4,  2, 2,  6,  1, 3,  2, 3]\n",
    "\n",
    "  # Define an array of supplies at each node.\n",
    "\n",
    "  supplies = [20, 0, 0, -5, -15]\n",
    "\n",
    "\n",
    "  # Instantiate a SimpleMinCostFlow solver.\n",
    "  min_cost_flow = pywrapgraph.SimpleMinCostFlow()\n",
    "\n",
    "  # Add each arc.\n",
    "  for i in range(0, len(start_nodes)):\n",
    "    min_cost_flow.AddArcWithCapacityAndUnitCost(start_nodes[i], end_nodes[i],\n",
    "                                                capacities[i], unit_costs[i])\n",
    "\n",
    "  # Add node supplies.\n",
    "\n",
    "  for i in range(0, len(supplies)):\n",
    "    min_cost_flow.SetNodeSupply(i, supplies[i])\n",
    "\n",
    "\n",
    "  # Find the minimum cost flow between node 0 and node 4.\n",
    "  if min_cost_flow.Solve() == min_cost_flow.OPTIMAL:\n",
    "    print('Minimum cost:', min_cost_flow.OptimalCost())\n",
    "    print('')\n",
    "    print('  Arc    Flow / Capacity  Cost')\n",
    "    for i in range(min_cost_flow.NumArcs()):\n",
    "      cost = min_cost_flow.Flow(i) * min_cost_flow.UnitCost(i)\n",
    "      print('%1s -> %1s   %3s  / %3s       %3s' % (\n",
    "          min_cost_flow.Tail(i),\n",
    "          min_cost_flow.Head(i),\n",
    "          min_cost_flow.Flow(i),\n",
    "          min_cost_flow.Capacity(i),\n",
    "          cost))\n",
    "  else:\n",
    "    print('There was an issue with the min cost flow input.')\n",
    "\n",
    "if __name__ == '__main__':\n",
    "  main()"
   ]
  },
  {
   "cell_type": "code",
   "execution_count": 13,
   "metadata": {},
   "outputs": [
    {
     "ename": "TypeError",
     "evalue": "in method 'SimpleMinCostFlow_AddArcWithCapacityAndUnitCost', argument 2 of type 'operations_research::NodeIndex'",
     "output_type": "error",
     "traceback": [
      "\u001b[1;31m---------------------------------------------------------------------------\u001b[0m",
      "\u001b[1;31mTypeError\u001b[0m                                 Traceback (most recent call last)",
      "\u001b[1;32m<ipython-input-13-30a1b1f8dd4d>\u001b[0m in \u001b[0;36m<module>\u001b[1;34m\u001b[0m\n\u001b[0;32m     61\u001b[0m \u001b[1;33m\u001b[0m\u001b[0m\n\u001b[0;32m     62\u001b[0m \u001b[1;32mif\u001b[0m \u001b[0m__name__\u001b[0m \u001b[1;33m==\u001b[0m \u001b[1;34m'__main__'\u001b[0m\u001b[1;33m:\u001b[0m\u001b[1;33m\u001b[0m\u001b[1;33m\u001b[0m\u001b[0m\n\u001b[1;32m---> 63\u001b[1;33m   \u001b[0mmain\u001b[0m\u001b[1;33m(\u001b[0m\u001b[1;33m)\u001b[0m\u001b[1;33m\u001b[0m\u001b[1;33m\u001b[0m\u001b[0m\n\u001b[0m",
      "\u001b[1;32m<ipython-input-13-30a1b1f8dd4d>\u001b[0m in \u001b[0;36mmain\u001b[1;34m()\u001b[0m\n\u001b[0;32m     35\u001b[0m   \u001b[1;31m# Add each arc.\u001b[0m\u001b[1;33m\u001b[0m\u001b[1;33m\u001b[0m\u001b[1;33m\u001b[0m\u001b[0m\n\u001b[0;32m     36\u001b[0m   \u001b[1;32mfor\u001b[0m \u001b[0mi\u001b[0m \u001b[1;32min\u001b[0m \u001b[0mrange\u001b[0m\u001b[1;33m(\u001b[0m\u001b[1;36m0\u001b[0m\u001b[1;33m,\u001b[0m \u001b[0mlen\u001b[0m\u001b[1;33m(\u001b[0m\u001b[0mstart_nodes\u001b[0m\u001b[1;33m)\u001b[0m\u001b[1;33m)\u001b[0m\u001b[1;33m:\u001b[0m\u001b[1;33m\u001b[0m\u001b[1;33m\u001b[0m\u001b[0m\n\u001b[1;32m---> 37\u001b[1;33m     min_cost_flow.AddArcWithCapacityAndUnitCost(start_nodes[i], end_nodes[i],\n\u001b[0m\u001b[0;32m     38\u001b[0m                                                 capacities[i], unit_costs[i])\n\u001b[0;32m     39\u001b[0m \u001b[1;33m\u001b[0m\u001b[0m\n",
      "\u001b[1;32mc:\\users\\selhj\\appdata\\local\\programs\\python\\python39\\lib\\site-packages\\ortools\\graph\\pywrapgraph.py\u001b[0m in \u001b[0;36mAddArcWithCapacityAndUnitCost\u001b[1;34m(self, tail, head, capacity, unit_cost)\u001b[0m\n\u001b[0;32m    139\u001b[0m \u001b[1;33m\u001b[0m\u001b[0m\n\u001b[0;32m    140\u001b[0m     \u001b[1;32mdef\u001b[0m \u001b[0mAddArcWithCapacityAndUnitCost\u001b[0m\u001b[1;33m(\u001b[0m\u001b[0mself\u001b[0m\u001b[1;33m,\u001b[0m \u001b[0mtail\u001b[0m\u001b[1;33m:\u001b[0m \u001b[1;34m\"operations_research::NodeIndex\"\u001b[0m\u001b[1;33m,\u001b[0m \u001b[0mhead\u001b[0m\u001b[1;33m:\u001b[0m \u001b[1;34m\"operations_research::NodeIndex\"\u001b[0m\u001b[1;33m,\u001b[0m \u001b[0mcapacity\u001b[0m\u001b[1;33m:\u001b[0m \u001b[1;34m\"operations_research::FlowQuantity\"\u001b[0m\u001b[1;33m,\u001b[0m \u001b[0munit_cost\u001b[0m\u001b[1;33m:\u001b[0m \u001b[1;34m\"operations_research::CostValue\"\u001b[0m\u001b[1;33m)\u001b[0m \u001b[1;33m->\u001b[0m \u001b[1;34m\"operations_research::ArcIndex\"\u001b[0m\u001b[1;33m:\u001b[0m\u001b[1;33m\u001b[0m\u001b[1;33m\u001b[0m\u001b[0m\n\u001b[1;32m--> 141\u001b[1;33m         \u001b[1;32mreturn\u001b[0m \u001b[0m_pywrapgraph\u001b[0m\u001b[1;33m.\u001b[0m\u001b[0mSimpleMinCostFlow_AddArcWithCapacityAndUnitCost\u001b[0m\u001b[1;33m(\u001b[0m\u001b[0mself\u001b[0m\u001b[1;33m,\u001b[0m \u001b[0mtail\u001b[0m\u001b[1;33m,\u001b[0m \u001b[0mhead\u001b[0m\u001b[1;33m,\u001b[0m \u001b[0mcapacity\u001b[0m\u001b[1;33m,\u001b[0m \u001b[0munit_cost\u001b[0m\u001b[1;33m)\u001b[0m\u001b[1;33m\u001b[0m\u001b[1;33m\u001b[0m\u001b[0m\n\u001b[0m\u001b[0;32m    142\u001b[0m \u001b[1;33m\u001b[0m\u001b[0m\n\u001b[0;32m    143\u001b[0m     \u001b[1;32mdef\u001b[0m \u001b[0mSetNodeSupply\u001b[0m\u001b[1;33m(\u001b[0m\u001b[0mself\u001b[0m\u001b[1;33m,\u001b[0m \u001b[0mnode\u001b[0m\u001b[1;33m:\u001b[0m \u001b[1;34m\"operations_research::NodeIndex\"\u001b[0m\u001b[1;33m,\u001b[0m \u001b[0msupply\u001b[0m\u001b[1;33m:\u001b[0m \u001b[1;34m\"operations_research::FlowQuantity\"\u001b[0m\u001b[1;33m)\u001b[0m \u001b[1;33m->\u001b[0m \u001b[1;34m\"void\"\u001b[0m\u001b[1;33m:\u001b[0m\u001b[1;33m\u001b[0m\u001b[1;33m\u001b[0m\u001b[0m\n",
      "\u001b[1;31mTypeError\u001b[0m: in method 'SimpleMinCostFlow_AddArcWithCapacityAndUnitCost', argument 2 of type 'operations_research::NodeIndex'"
     ]
    }
   ],
   "source": [
    "import pandas as pd\n",
    "import random\n",
    "\n",
    "# \"\"\"From Bradley, Hax, and Magnanti, 'Applied Mathematical Programming', figure 8.1.\"\"\"\n",
    "\n",
    "from __future__ import print_function\n",
    "from ortools.graph import pywrapgraph\n",
    "\n",
    "def main():\n",
    "  \"\"\"MinCostFlow simple interface example.\"\"\"\n",
    "\n",
    "  # Define four parallel arrays: start_nodes, end_nodes, capacities, and unit costs\n",
    "  # between each pair. For instance, the arc from node 0 to node 1 has a\n",
    "  # capacity of 15 and a unit cost of 4.\n",
    "\n",
    "  f_t_dis = pd.read_csv(\"from_to_distance.csv\")\n",
    "\n",
    "  start_nodes = []\n",
    "  end_nodes   = []\n",
    "  capacities  = []\n",
    "  unit_costs  = []\n",
    "\n",
    "  for i in range(len(f_t_dis.tmlfrm)):\n",
    "      start_nodes.append(f_t_dis.tmlfrm[i])\n",
    "      end_nodes.append(f_t_dis.tmltto[i])\n",
    "      unit_costs.append(f_t_dis.distance[i])\n",
    "      capacities.append(random.randrange(0, 10))\n",
    "\n",
    "  supplies = [20, -2, -3, -5, 0, -10]\n",
    "\n",
    "\n",
    "  # Instantiate a SimpleMinCostFlow solver.\n",
    "  min_cost_flow = pywrapgraph.SimpleMinCostFlow()\n",
    "\n",
    "  # Add each arc.\n",
    "  for i in range(0, len(start_nodes)):\n",
    "    min_cost_flow.AddArcWithCapacityAndUnitCost(start_nodes[i], end_nodes[i],\n",
    "                                                capacities[i], unit_costs[i])\n",
    "\n",
    "  # Add node supplies.\n",
    "\n",
    "  for i in range(0, len(supplies)):\n",
    "    min_cost_flow.SetNodeSupply(i, supplies[i])\n",
    "\n",
    "\n",
    "  # Find the minimum cost flow between node 0 and node 4.\n",
    "  if min_cost_flow.Solve() == min_cost_flow.OPTIMAL:\n",
    "    print('Minimum cost:', min_cost_flow.OptimalCost())\n",
    "    print('')\n",
    "    print('  Arc    Flow / Capacity  Cost')\n",
    "    for i in range(min_cost_flow.NumArcs()):\n",
    "      cost = min_cost_flow.Flow(i) * min_cost_flow.UnitCost(i)\n",
    "      print('%1s -> %1s   %3s  / %3s       %3s' % (\n",
    "          min_cost_flow.Tail(i),\n",
    "          min_cost_flow.Head(i),\n",
    "          min_cost_flow.Flow(i),\n",
    "          min_cost_flow.Capacity(i),\n",
    "          cost))\n",
    "  else:\n",
    "    print('There was an issue with the min cost flow input.')\n",
    "\n",
    "if __name__ == '__main__':\n",
    "  main()\n"
   ]
  },
  {
   "cell_type": "code",
   "execution_count": 14,
   "metadata": {},
   "outputs": [
    {
     "name": "stdout",
     "output_type": "stream",
     "text": [
      "[0, 0, 0, 0, 0, 1, 1, 1, 1, 1, 2, 2, 2, 2, 2, 3, 3, 3, 3, 3, 4, 4, 4, 4, 4, 5, 5, 5, 5, 5]\n",
      "[1, 2, 3, 4, 5, 0, 2, 3, 4, 5, 0, 1, 3, 4, 5, 0, 1, 2, 4, 5, 0, 1, 2, 3, 5, 0, 1, 2, 3, 4]\n",
      "[200, 133, 58, 308, 72, 206, 103, 189, 109, 171, 125, 102, 101, 187, 88, 66, 185, 100, 278, 14, 300, 116, 196, 277, 265, 68, 177, 85, 13, 267]\n",
      "[6, 7, 5, 0, 1, 3, 0, 1, 2, 8, 4, 7, 9, 5, 5, 8, 0, 0, 2, 5, 2, 3, 5, 3, 3, 9, 8, 0, 1, 6]\n"
     ]
    }
   ],
   "source": [
    "  f_t_dis = pd.read_csv(\"from_to_distance.csv\")\n",
    "\n",
    "  start_nodes = []\n",
    "  end_nodes   = []\n",
    "  capacities  = []\n",
    "  unit_costs  = []\n",
    "\n",
    "  for i in range(len(f_t_dis.tmlfrm)):\n",
    "      start_nodes.append(int(f_t_dis.tmlfrm[i][-1]))\n",
    "      end_nodes.append(int(f_t_dis.tmltto[i][-1]))\n",
    "      unit_costs.append(f_t_dis.distance[i])\n",
    "      capacities.append(random.randrange(0, 10))\n",
    "\n",
    "  supplies = [20, -2, -3, -5, 0, -10]\n",
    "\n",
    "\n",
    "print(start_nodes)\n",
    "print(end_nodes)\n",
    "print(unit_costs)\n",
    "print(capacities)\n",
    "\n",
    "\n",
    "  "
   ]
  },
  {
   "cell_type": "code",
   "execution_count": 15,
   "metadata": {},
   "outputs": [
    {
     "ename": "SyntaxError",
     "evalue": "invalid syntax (<ipython-input-15-f7dfeb7e578d>, line 9)",
     "output_type": "error",
     "traceback": [
      "\u001b[1;36m  File \u001b[1;32m\"<ipython-input-15-f7dfeb7e578d>\"\u001b[1;36m, line \u001b[1;32m9\u001b[0m\n\u001b[1;33m    if\u001b[0m\n\u001b[1;37m       ^\u001b[0m\n\u001b[1;31mSyntaxError\u001b[0m\u001b[1;31m:\u001b[0m invalid syntax\n"
     ]
    }
   ],
   "source": [
    "f_t_quan = pd.read_csv(\"f_t_quan.csv\")\n",
    "print(f_t_quan)\n",
    "\n",
    "supplies = []\n",
    "\n",
    "\n",
    "for i in range(len(f_t_quan.orgcod)): # 30\n",
    "    tmp = []\n",
    "    if \n",
    "    tmp.append(-1 * f_t_quan.count[i])\n",
    "\n"
   ]
  },
  {
   "cell_type": "code",
   "execution_count": 16,
   "metadata": {},
   "outputs": [],
   "source": [
    "a = 4\n",
    "b = 3\n",
    "\n",
    "if (a or b) == (2 or 4):\n",
    "    print('t')"
   ]
  },
  {
   "cell_type": "code",
   "execution_count": 17,
   "metadata": {},
   "outputs": [
    {
     "data": {
      "text/plain": [
       "[[172, -31, -28, -45, -30, -38],\n",
       " [-31, 172, -32, -31, -43, -35],\n",
       " [-34, -32, 164, -26, -34, -38],\n",
       " [-22, -24, -27, 153, -33, -47],\n",
       " [-33, -39, -33, -30, 168, -33],\n",
       " [-29, -32, -41, -34, -35, 171]]"
      ]
     },
     "execution_count": 17,
     "metadata": {},
     "output_type": "execute_result"
    }
   ],
   "source": [
    "import pandas as pd\n",
    "\n",
    "f_t_tml = pd.read_csv(\"f_t_tml.csv\")\n",
    "hud_node = []\n",
    "supplies = []\n",
    "\n",
    "for i in range(len(f_t_tml.tmltyp)):\n",
    "    if f_t_tml.tmltyp[i] == 'hub':\n",
    "        hud_node.append(i)\n",
    "\n",
    "\n",
    "f_t_quan = pd.read_csv(\"f_t_quan.csv\")\n",
    "#print(f_t_quan)\n",
    "tmp_quan = list(f_t_quan.quantity)\n",
    "for i in range(len(f_t_tml.tmltyp)):\n",
    "    tmp = []\n",
    "    for j in range(len(f_t_tml.tmltyp) - 1):\n",
    "        tmp.append(-1*(tmp_quan[0]))\n",
    "        tmp_quan.pop(0)\n",
    "    tmp.insert(i, -1 * sum(tmp))\n",
    "    supplies.append(tmp)\n",
    "\n",
    "\n",
    "supplies\n",
    "\n",
    "\n"
   ]
  },
  {
   "cell_type": "code",
   "execution_count": 18,
   "metadata": {},
   "outputs": [
    {
     "data": {
      "text/plain": [
       "30"
      ]
     },
     "execution_count": 18,
     "metadata": {},
     "output_type": "execute_result"
    }
   ],
   "source": [
    "f_t_quan = pd.read_csv(\"f_t_quan.csv\")\n",
    "#print(f_t_quan)\n",
    "tmp_quan = list(f_t_quan.quantity)\n",
    "len(tmp_quan)"
   ]
  },
  {
   "cell_type": "code",
   "execution_count": 19,
   "metadata": {},
   "outputs": [
    {
     "data": {
      "text/plain": [
       "6"
      ]
     },
     "execution_count": 19,
     "metadata": {},
     "output_type": "execute_result"
    }
   ],
   "source": [
    "len(f_t_tml.tmltyp)"
   ]
  },
  {
   "cell_type": "code",
   "execution_count": 20,
   "metadata": {},
   "outputs": [
    {
     "name": "stdout",
     "output_type": "stream",
     "text": [
      "65\n",
      "90\n"
     ]
    }
   ],
   "source": [
    "print(ord('A')); print(ord('Z'))"
   ]
  },
  {
   "cell_type": "code",
   "execution_count": 21,
   "metadata": {},
   "outputs": [],
   "source": [
    "def solution(name):\n",
    "    for i in name:\n",
    "        ord(i) - ord('A')"
   ]
  },
  {
   "cell_type": "code",
   "execution_count": 22,
   "metadata": {},
   "outputs": [
    {
     "data": {
      "text/plain": [
       "2"
      ]
     },
     "execution_count": 22,
     "metadata": {},
     "output_type": "execute_result"
    }
   ],
   "source": [
    "ord('C') - ord('A')"
   ]
  },
  {
   "cell_type": "code",
   "execution_count": 23,
   "metadata": {
    "tags": []
   },
   "outputs": [
    {
     "ename": "TypeError",
     "evalue": "unsupported operand type(s) for +: 'int' and 'list'",
     "output_type": "error",
     "traceback": [
      "\u001b[1;31m---------------------------------------------------------------------------\u001b[0m",
      "\u001b[1;31mTypeError\u001b[0m                                 Traceback (most recent call last)",
      "\u001b[1;32m<ipython-input-23-8218eb6631e8>\u001b[0m in \u001b[0;36m<module>\u001b[1;34m\u001b[0m\n\u001b[0;32m     17\u001b[0m \u001b[1;33m\u001b[0m\u001b[0m\n\u001b[0;32m     18\u001b[0m \u001b[0mV\u001b[0m\u001b[1;33m[\u001b[0m\u001b[1;36m0\u001b[0m\u001b[1;33m]\u001b[0m\u001b[1;33m[\u001b[0m\u001b[1;36m0\u001b[0m\u001b[1;33m]\u001b[0m\u001b[1;33m[\u001b[0m\u001b[1;36m0\u001b[0m\u001b[1;33m]\u001b[0m\u001b[1;33m[\u001b[0m\u001b[1;36m0\u001b[0m\u001b[1;33m]\u001b[0m\u001b[1;33m[\u001b[0m\u001b[1;36m0\u001b[0m\u001b[1;33m]\u001b[0m\u001b[1;33m[\u001b[0m\u001b[1;36m0\u001b[0m\u001b[1;33m]\u001b[0m \u001b[1;33m=\u001b[0m \u001b[1;36m1\u001b[0m\u001b[1;33m\u001b[0m\u001b[1;33m\u001b[0m\u001b[0m\n\u001b[1;32m---> 19\u001b[1;33m \u001b[0msum\u001b[0m\u001b[1;33m(\u001b[0m\u001b[0mV\u001b[0m\u001b[1;33m)\u001b[0m\u001b[1;33m\u001b[0m\u001b[1;33m\u001b[0m\u001b[0m\n\u001b[0m\u001b[0;32m     20\u001b[0m \u001b[1;33m\u001b[0m\u001b[0m\n",
      "\u001b[1;31mTypeError\u001b[0m: unsupported operand type(s) for +: 'int' and 'list'"
     ]
    }
   ],
   "source": [
    "#V_p_i_t_n_m_s = []\n",
    "V = []\n",
    "\n",
    "\n",
    "for p in range(5):\n",
    "    V.append([])\n",
    "    for i in range(5):\n",
    "        V[p].append([])\n",
    "        for t in range(5):\n",
    "            V[p][i].append([])\n",
    "            for n in range(5):\n",
    "                V[p][i][t].append([])\n",
    "                for m in range(5):\n",
    "                    V[p][i][t][n].append([])\n",
    "                    for s in range(5):\n",
    "                        V[p][i][t][n][m].append([])\n",
    "\n",
    "V[0][0][0][0][0][0] = 1\n",
    "sum(V)\n",
    "\n"
   ]
  },
  {
   "cell_type": "code",
   "execution_count": 24,
   "metadata": {},
   "outputs": [
    {
     "ename": "TypeError",
     "evalue": "unsupported operand type(s) for +: 'int' and 'list'",
     "output_type": "error",
     "traceback": [
      "\u001b[1;31m---------------------------------------------------------------------------\u001b[0m",
      "\u001b[1;31mTypeError\u001b[0m                                 Traceback (most recent call last)",
      "\u001b[1;32m<ipython-input-24-6a91352781a3>\u001b[0m in \u001b[0;36m<module>\u001b[1;34m\u001b[0m\n\u001b[0;32m      1\u001b[0m \u001b[0ma\u001b[0m \u001b[1;33m=\u001b[0m \u001b[1;33m[\u001b[0m\u001b[1;33m[\u001b[0m\u001b[1;36m1\u001b[0m\u001b[1;33m,\u001b[0m\u001b[1;36m2\u001b[0m\u001b[1;33m]\u001b[0m\u001b[1;33m,\u001b[0m \u001b[1;33m[\u001b[0m\u001b[1;36m1\u001b[0m\u001b[1;33m,\u001b[0m\u001b[1;36m2\u001b[0m\u001b[1;33m]\u001b[0m\u001b[1;33m]\u001b[0m\u001b[1;33m\u001b[0m\u001b[1;33m\u001b[0m\u001b[0m\n\u001b[1;32m----> 2\u001b[1;33m \u001b[0msum\u001b[0m\u001b[1;33m(\u001b[0m\u001b[0ma\u001b[0m\u001b[1;33m)\u001b[0m\u001b[1;33m\u001b[0m\u001b[1;33m\u001b[0m\u001b[0m\n\u001b[0m",
      "\u001b[1;31mTypeError\u001b[0m: unsupported operand type(s) for +: 'int' and 'list'"
     ]
    }
   ],
   "source": [
    "a = [[1,2], [1,2]]\n",
    "sum(a)"
   ]
  },
  {
   "cell_type": "code",
   "execution_count": 25,
   "metadata": {},
   "outputs": [
    {
     "name": "stdout",
     "output_type": "stream",
     "text": [
      "Number of variables = 15625\n",
      "Number of constraints = 12501\n",
      "Solution:\n",
      "Objective value = 4.0\n",
      "\n",
      "Advanced usage:\n",
      "Problem solved in 328.000000 milliseconds\n",
      "Problem solved in 0 iterations\n",
      "Problem solved in 1 branch-and-bound nodes\n"
     ]
    }
   ],
   "source": [
    "from ortools.linear_solver import pywraplp\n",
    "solver = pywraplp.Solver.CreateSolver('SCIP')\n",
    "status = solver.Solve()\n",
    "infinity = solver.infinity()\n",
    "\n",
    "V = []\n",
    "\n",
    "\n",
    "for p in range(5):\n",
    "    V.append([])\n",
    "    for i in range(5):\n",
    "        V[p].append([])\n",
    "        for t in range(5):\n",
    "            V[p][i].append([])\n",
    "            for n in range(5):\n",
    "                V[p][i][t].append([])\n",
    "                for m in range(5):\n",
    "                    V[p][i][t][n].append([])\n",
    "                    for s in range(5):\n",
    "                        V[p][i][t][n][m].append([])\n",
    "\n",
    "\n",
    "for p in range(5):\n",
    "    for i in range(5):\n",
    "        for t in range(5):\n",
    "            for n in range(5):\n",
    "                for m in range(5):\n",
    "                    for s in range(5):\n",
    "                        V[p][i][t][n][m][s] = solver.IntVar(0, 1,\n",
    "                        'V_%d_%d_%d_%d_%d_%d' %(p, i, t, n, m, s))\n",
    "\n",
    "print('Number of variables =', solver.NumVariables())\n",
    "\n",
    "# 제약_1: sequence는 연속되어야 함, 근데 이렇게 하는게 맞나?\n",
    "for p in range(5):\n",
    "    for i in range(5):\n",
    "        for t in range(5):\n",
    "            for n in range(5):\n",
    "                for m in range(5):\n",
    "                    for s in range(4):\n",
    "                        solver.Add(V[p][i][t][n][m][s] >= V[p][i][t][n][m][s+1])\n",
    "\n",
    "# for p in range(5):\n",
    "#     for i in range(5):\n",
    "#         for t in range(5):\n",
    "#             for n in range(5):\n",
    "#                 for m in range(5):\n",
    "#                     for s in range(5):\n",
    "#                         solver.Add()\n",
    "\n",
    "\n",
    "solver.Add(V[0][0][0][0][0][3] == 1)\n",
    "\n",
    "print('Number of constraints =', solver.NumConstraints())\n",
    "\n",
    "answer = 0\n",
    "for p in range(5):\n",
    "    for i in range(5):\n",
    "        for t in range(5):\n",
    "            for n in range(5):\n",
    "                for m in range(5):\n",
    "                    for s in range(5):\n",
    "                        answer += V[p][i][t][n][m][s]\n",
    "\n",
    "\n",
    "solver.Minimize(answer)\n",
    "\n",
    "status = solver.Solve()\n",
    "\n",
    "if status == pywraplp.Solver.OPTIMAL:\n",
    "    print('Solution:')\n",
    "    print('Objective value =', solver.Objective().Value())\n",
    "    # print('x =', x.solution_value())\n",
    "    # print('y =', y.solution_value())\n",
    "else:\n",
    "    print('The problem does not have an optimal solution.')\n",
    "\n",
    "print('\\nAdvanced usage:')\n",
    "print('Problem solved in %f milliseconds' % solver.wall_time())\n",
    "print('Problem solved in %d iterations' % solver.iterations())\n",
    "print('Problem solved in %d branch-and-bound nodes' % solver.nodes())\n",
    "\n",
    "\n",
    "\n",
    "\n",
    "\n",
    "\n",
    "\n",
    "\n",
    "\n"
   ]
  },
  {
   "cell_type": "code",
   "execution_count": 26,
   "metadata": {},
   "outputs": [
    {
     "data": {
      "text/plain": [
       "[[[], [], [], [], []],\n",
       " [[], [], [], [], []],\n",
       " [[], [], [], [], []],\n",
       " [[], [], [], [], []],\n",
       " [[], [], [], [], []]]"
      ]
     },
     "execution_count": 26,
     "metadata": {},
     "output_type": "execute_result"
    }
   ],
   "source": [
    "V = []\n",
    "tmp = []\n",
    "\n",
    "for m in range(5):\n",
    "    V.append([])\n",
    "    for s in range(5):\n",
    "        V[m].append([])\n",
    "\n",
    "V\n"
   ]
  },
  {
   "cell_type": "code",
   "execution_count": 27,
   "metadata": {},
   "outputs": [
    {
     "ename": "TypeError",
     "evalue": "unsupported operand type(s) for /: 'list' and 'int'",
     "output_type": "error",
     "traceback": [
      "\u001b[1;31m---------------------------------------------------------------------------\u001b[0m",
      "\u001b[1;31mTypeError\u001b[0m                                 Traceback (most recent call last)",
      "\u001b[1;32m<ipython-input-27-2613cefb92c1>\u001b[0m in \u001b[0;36m<module>\u001b[1;34m\u001b[0m\n\u001b[0;32m      1\u001b[0m \u001b[0ma\u001b[0m \u001b[1;33m=\u001b[0m \u001b[1;33m[\u001b[0m\u001b[1;36m10\u001b[0m\u001b[1;33m,\u001b[0m \u001b[1;36m10\u001b[0m\u001b[1;33m,\u001b[0m \u001b[1;36m12\u001b[0m\u001b[1;33m]\u001b[0m\u001b[1;33m\u001b[0m\u001b[1;33m\u001b[0m\u001b[0m\n\u001b[1;32m----> 2\u001b[1;33m \u001b[0ma\u001b[0m\u001b[1;33m/\u001b[0m\u001b[1;36m10\u001b[0m\u001b[1;33m\u001b[0m\u001b[1;33m\u001b[0m\u001b[0m\n\u001b[0m\u001b[0;32m      3\u001b[0m \u001b[1;31m#all(a)\u001b[0m\u001b[1;33m\u001b[0m\u001b[1;33m\u001b[0m\u001b[1;33m\u001b[0m\u001b[0m\n",
      "\u001b[1;31mTypeError\u001b[0m: unsupported operand type(s) for /: 'list' and 'int'"
     ]
    }
   ],
   "source": [
    "a = [10, 10, 12]\n",
    "a/10\n",
    "#all(a) "
   ]
  },
  {
   "cell_type": "code",
   "execution_count": 28,
   "metadata": {},
   "outputs": [],
   "source": [
    "def chk(my_list):\n",
    "    for i in my_list:\n",
    "        if 0 < i < 11:\n",
    "            return False\n",
    "    \n",
    "    return True\n",
    "            "
   ]
  },
  {
   "cell_type": "code",
   "execution_count": 29,
   "metadata": {},
   "outputs": [
    {
     "data": {
      "text/plain": [
       "False"
      ]
     },
     "execution_count": 29,
     "metadata": {},
     "output_type": "execute_result"
    }
   ],
   "source": [
    "a = [0, 0, 12, 4]\n",
    "Q_11 = 11\n",
    "\n",
    "all(0 == item or item > Q_11 for item in a)"
   ]
  },
  {
   "cell_type": "code",
   "execution_count": 30,
   "metadata": {},
   "outputs": [
    {
     "data": {
      "text/plain": [
       "((1, 4), (1, 5), (1, 6), (2, 4), (2, 5), (2, 6), (3, 4), (3, 5), (3, 6))"
      ]
     },
     "execution_count": 30,
     "metadata": {},
     "output_type": "execute_result"
    }
   ],
   "source": [
    "a = [1, 2, 3]\n",
    "b = [4, 5, 6]\n",
    "\n",
    "tuple((x, y) for x in a for y in b)"
   ]
  },
  {
   "cell_type": "code",
   "execution_count": 31,
   "metadata": {},
   "outputs": [],
   "source": [
    "from itertools import *"
   ]
  },
  {
   "cell_type": "code",
   "execution_count": 32,
   "metadata": {},
   "outputs": [
    {
     "data": {
      "text/plain": [
       "<itertools.chain at 0x12beb9e2b20>"
      ]
     },
     "execution_count": 32,
     "metadata": {},
     "output_type": "execute_result"
    }
   ],
   "source": [
    "chain(\"ABC\", \"DEF\")"
   ]
  },
  {
   "cell_type": "code",
   "execution_count": 33,
   "metadata": {},
   "outputs": [],
   "source": [
    "V = []\n",
    "\n",
    "for p in range(2):\n",
    "    V.append([])\n",
    "    for i in range(2):\n",
    "        V[p].append([])\n",
    "        for t in range(2):\n",
    "            V[p][i].append([])\n",
    "            for n in range(2):\n",
    "                V[p][i][t].append([])\n",
    "                for m in range(2):\n",
    "                    V[p][i][t][n].append([])\n",
    "                    for s in range(2):\n",
    "                        V[p][i][t][n][m].append([])\n",
    "\n"
   ]
  },
  {
   "cell_type": "code",
   "execution_count": 34,
   "metadata": {},
   "outputs": [
    {
     "data": {
      "text/plain": [
       "[[[[[[1, 0], [0, 1]], [[0, 1], [1, 0]]], [[[0, 1], [1, 0]], [[1, 0], [0, 1]]]],\n",
       "  [[[[0, 1], [1, 0]], [[1, 0], [0, 1]]],\n",
       "   [[[1, 0], [0, 1]], [[0, 1], [1, 0]]]]],\n",
       " [[[[[0, 1], [1, 0]], [[1, 0], [0, 1]]], [[[1, 0], [0, 1]], [[0, 1], [1, 0]]]],\n",
       "  [[[[1, 0], [0, 1]], [[0, 1], [1, 0]]],\n",
       "   [[[0, 1], [1, 0]], [[1, 0], [0, 1]]]]]]"
      ]
     },
     "execution_count": 34,
     "metadata": {},
     "output_type": "execute_result"
    }
   ],
   "source": [
    "import itertools\n",
    "P = [0, 1]\n",
    "I = [0, 1]#[1, 2, 3, 4, 5]\n",
    "T = [0, 1]#[1, 2, 3, 4, 5]\n",
    "N = [0, 1]#[1, 2, 3, 4, 5]\n",
    "M = [0, 1]#[1, 2, 3, 4, 5]\n",
    "S = [0, 1]#[1, 2, 3, 4, 5]\n",
    "\n",
    "for p, i, t, n, m, s in itertools.product(P, I, T, N, M, S):\n",
    "    if (p+i+t+n+m+s ) % 2 == 0:\n",
    "        V[p][i][t][n][m][s] = 1\n",
    "    else:\n",
    "        V[p][i][t][n][m][s] = 0\n",
    "\n",
    "\n",
    "V"
   ]
  },
  {
   "cell_type": "code",
   "execution_count": 35,
   "metadata": {},
   "outputs": [
    {
     "name": "stdout",
     "output_type": "stream",
     "text": [
      "0 0 0 0 0 0\n",
      "0 0 0 0 0 1\n",
      "0 0 0 0 1 0\n",
      "0 0 0 0 1 1\n",
      "0 0 0 1 0 0\n",
      "0 0 0 1 0 1\n",
      "0 0 0 1 1 0\n",
      "0 0 0 1 1 1\n",
      "0 0 1 0 0 0\n",
      "0 0 1 0 0 1\n",
      "0 0 1 0 1 0\n",
      "0 0 1 0 1 1\n",
      "0 0 1 1 0 0\n",
      "0 0 1 1 0 1\n",
      "0 0 1 1 1 0\n",
      "0 0 1 1 1 1\n",
      "0 1 0 0 0 0\n",
      "0 1 0 0 0 1\n",
      "0 1 0 0 1 0\n",
      "0 1 0 0 1 1\n",
      "0 1 0 1 0 0\n",
      "0 1 0 1 0 1\n",
      "0 1 0 1 1 0\n",
      "0 1 0 1 1 1\n",
      "0 1 1 0 0 0\n",
      "0 1 1 0 0 1\n",
      "0 1 1 0 1 0\n",
      "0 1 1 0 1 1\n",
      "0 1 1 1 0 0\n",
      "0 1 1 1 0 1\n",
      "0 1 1 1 1 0\n",
      "0 1 1 1 1 1\n",
      "1 0 0 0 0 0\n",
      "1 0 0 0 0 1\n",
      "1 0 0 0 1 0\n",
      "1 0 0 0 1 1\n",
      "1 0 0 1 0 0\n",
      "1 0 0 1 0 1\n",
      "1 0 0 1 1 0\n",
      "1 0 0 1 1 1\n",
      "1 0 1 0 0 0\n",
      "1 0 1 0 0 1\n",
      "1 0 1 0 1 0\n",
      "1 0 1 0 1 1\n",
      "1 0 1 1 0 0\n",
      "1 0 1 1 0 1\n",
      "1 0 1 1 1 0\n",
      "1 0 1 1 1 1\n",
      "1 1 0 0 0 0\n",
      "1 1 0 0 0 1\n",
      "1 1 0 0 1 0\n",
      "1 1 0 0 1 1\n",
      "1 1 0 1 0 0\n",
      "1 1 0 1 0 1\n",
      "1 1 0 1 1 0\n",
      "1 1 0 1 1 1\n",
      "1 1 1 0 0 0\n",
      "1 1 1 0 0 1\n",
      "1 1 1 0 1 0\n",
      "1 1 1 0 1 1\n",
      "1 1 1 1 0 0\n",
      "1 1 1 1 0 1\n",
      "1 1 1 1 1 0\n",
      "1 1 1 1 1 1\n"
     ]
    }
   ],
   "source": [
    "\n",
    "\n",
    "for p, i, t, n, m, s in itertools.product(P, I, T, N, M, S):\n",
    "    print(p, i, t, n, m, s)"
   ]
  },
  {
   "cell_type": "code",
   "execution_count": 5,
   "metadata": {},
   "outputs": [],
   "source": [
    "import itertools\n",
    "from ortools.linear_solver import pywraplp\n",
    "from __future__ import print_function\n",
    "from ortools.graph import pywrapgraph\n",
    "import pandas as pd\n",
    "import random\n",
    "\n",
    "# raw data 로드, dataframe형식\n",
    "f_t_dis = pd.read_csv(\"from_to_distance.csv\")\n",
    "f_t_quan = pd.read_csv(\"f_t_quan.csv\")\n",
    "f_t_tml = pd.read_csv(\"f_t_tml.csv\")\n",
    "vclcod = pd.read_csv(\"vclcod.csv\")"
   ]
  },
  {
   "cell_type": "code",
   "execution_count": 37,
   "metadata": {},
   "outputs": [
    {
     "data": {
      "text/plain": [
       "[0, 1, 2, 3, 4, 5, 6, 7, 8, 9, 10, 11, 12, 13, 14]"
      ]
     },
     "execution_count": 37,
     "metadata": {},
     "output_type": "execute_result"
    }
   ],
   "source": [
    "f_t_dis\n",
    "f_t_quan\n",
    "f_t_tml.tmlcod\n",
    "type(list(f_t_tml.tmlcod))\n",
    "list(f_t_tml.tmlcod)\n",
    "\n",
    "a = [int(x[-3:]) for x in vclcod.vclcod]\n",
    "a\n"
   ]
  },
  {
   "cell_type": "code",
   "execution_count": 38,
   "metadata": {},
   "outputs": [],
   "source": [
    "I = [int(x[-3:]) for x in vclcod.vclcod] # 차량의 등록 서브, \n",
    "P = [0, 1, 2, 3, 4] # Period 시간 고려 변수, Time table을 참고하여 scale결정\n",
    "N = [int(x[-3:]) for x in f_t_tml.tmlcod] # from node\n",
    "M = [int(x[-3:]) for x in f_t_tml.tmlcod] # to node\n",
    "S = [0, 1, 2, 3, 4, 6] # 최대 6번까지 움직일 수 있음\n",
    "\n",
    "\n"
   ]
  },
  {
   "cell_type": "code",
   "execution_count": 3,
   "metadata": {},
   "outputs": [
    {
     "name": "stdout",
     "output_type": "stream",
     "text": [
      "[2, 4]\n",
      "[[[], [], [], [], [], []], [[], [], [], [], [], []], [[], [], [], [], [], []], [[], [], [], [], [], []], [[], [], [], [], [], []], [[], [], [], [], [], []]]\n"
     ]
    }
   ],
   "source": [
    "f_t_dis = pd.read_csv(\"from_to_distance.csv\")\n",
    "f_t_quan = pd.read_csv(\"f_t_quan.csv\")\n",
    "f_t_tml = pd.read_csv(\"f_t_tml.csv\")\n",
    "vclcod = pd.read_csv(\"vclcod.csv\")\n",
    "\n",
    "\n",
    "\n",
    "I = [int(x[-3:]) for x in vclcod.vclcod] # 차량의 등록 서브, \n",
    "P = [0, 1, 2, 3, 4] # Period 시간 고려 변수, Time table을 참고하여 scale결정\n",
    "N = [int(x[-3:]) for x in f_t_tml.tmlcod] # from node\n",
    "M = [int(x[-3:]) for x in f_t_tml.tmlcod] # to node\n",
    "S = [0, 1, 2, 3, 4, 6] # 최대 6번까지 움직일 수 있음\n",
    "\n",
    "hud_node = [] # 허브 노드\n",
    "for i in range(len(N)):\n",
    "    if f_t_tml.tmltyp[i] == 'hub':\n",
    "        hud_node.append(i)\n",
    "\n",
    "cost_matrix = []\n",
    "for i in range(len(N)):\n",
    "    cost_matrix.append([])\n",
    "    for j in range(len(N)):\n",
    "        cost_matrix[i].append([])\n",
    "\n",
    "\n",
    "print(hud_node)\n",
    "print(cost_matrix)"
   ]
  },
  {
   "cell_type": "code",
   "execution_count": 40,
   "metadata": {},
   "outputs": [
    {
     "data": {
      "text/plain": [
       "2"
      ]
     },
     "execution_count": 40,
     "metadata": {},
     "output_type": "execute_result"
    }
   ],
   "source": [
    "f_t_dis_2 = pd.read_csv(\"from_to_distance_2.csv\")\n",
    "# print(f_t_dis_2)\n",
    "# f_t_dis_2.loc[3][2] #low index, col index순\n",
    "max(f_t_dis_2.loc[2:])\n",
    "f_t_dis_2.loc[2:]\n",
    "\n",
    "import math\n",
    "math.ceil(1.1)"
   ]
  },
  {
   "cell_type": "code",
   "execution_count": 41,
   "metadata": {},
   "outputs": [
    {
     "data": {
      "text/plain": [
       "[[9999, 206, 125, 66, 300, 68],\n",
       " [200, 9999, 102, 185, 116, 177],\n",
       " [133, 103, 9999, 100, 196, 85],\n",
       " [58, 189, 101, 9999, 277, 13],\n",
       " [308, 109, 187, 278, 9999, 267],\n",
       " [72, 171, 88, 14, 265, 9999]]"
      ]
     },
     "execution_count": 41,
     "metadata": {},
     "output_type": "execute_result"
    }
   ],
   "source": [
    "\n",
    "for n, m in itertools.product(range(len(N)), range(len(M))):\n",
    "    if N[i] in hud_node or M[i] in hud_node:\n",
    "        cost_matrix[n][m] = f_t_dis_2.loc[n][m]/2 #low index, col index순\n",
    "    else:\n",
    "        cost_matrix[n][m] = f_t_dis_2.loc[n][m]\n",
    "\n",
    "cost_matrix\n"
   ]
  },
  {
   "cell_type": "code",
   "execution_count": 42,
   "metadata": {},
   "outputs": [
    {
     "data": {
      "text/plain": [
       "[[100, 3, 2, 1, 3, 1],\n",
       " [2, 100, 2, 2, 2, 2],\n",
       " [2, 2, 100, 1, 2, 1],\n",
       " [1, 2, 2, 100, 3, 1],\n",
       " [4, 2, 2, 3, 100, 3],\n",
       " [1, 2, 1, 1, 3, 100]]"
      ]
     },
     "execution_count": 42,
     "metadata": {},
     "output_type": "execute_result"
    }
   ],
   "source": [
    "time_matrix = []\n",
    "for i in range(len(N)):\n",
    "    time_matrix.append([])\n",
    "    for j in range(len(N)):\n",
    "        time_matrix[i].append([])\n",
    "\n",
    "for n, m in itertools.product(range(len(N)), range(len(M))):\n",
    "        time_matrix[n][m] = math.ceil(f_t_dis_2.loc[n][m]/100)\n",
    "\n",
    "time_matrix"
   ]
  },
  {
   "cell_type": "code",
   "execution_count": 14,
   "metadata": {},
   "outputs": [
    {
     "name": "stdout",
     "output_type": "stream",
     "text": [
      "[[0, 31, 28, 45, 30, 38], [31, 0, 32, 31, 43, 35], [34, 32, 0, 26, 34, 38], [22, 24, 27, 0, 33, 47], [33, 39, 33, 30, 0, 33], [29, 32, 41, 34, 35, 0]]\n"
     ]
    },
    {
     "data": {
      "text/plain": [
       "[172, 172, 164, 153, 168, 171]"
      ]
     },
     "execution_count": 14,
     "metadata": {},
     "output_type": "execute_result"
    }
   ],
   "source": [
    "import pandas as pd\n",
    "f_t_num = pd.read_csv(\"from_to_num.csv\")\n",
    "f_t_num\n",
    "\n",
    "quantity_matrix = []\n",
    "for i in range(len(N)):\n",
    "    quantity_matrix.append([])\n",
    "    for j in range(len(N)):\n",
    "        quantity_matrix[i].append([])\n",
    "\n",
    "for n, m in itertools.product(range(len(N)), range(len(M))):\n",
    "        quantity_matrix[n][m] = f_t_num.loc[n][m]\n",
    "print(quantity_matrix)\n",
    "[sum(x) for x in quantity_matrix]\n",
    "\n"
   ]
  },
  {
   "cell_type": "code",
   "execution_count": 13,
   "metadata": {},
   "outputs": [
    {
     "data": {
      "text/plain": [
       "[10, 5]"
      ]
     },
     "execution_count": 13,
     "metadata": {},
     "output_type": "execute_result"
    }
   ],
   "source": [
    "a = [10, 10]\n",
    "a[1] -= 5\n",
    "a"
   ]
  },
  {
   "cell_type": "code",
   "execution_count": null,
   "metadata": {},
   "outputs": [],
   "source": [
    "# 일단 모델 구현을 위해 심플하게 구성\n",
    "\n",
    "# 가정_1 : 모든 택배는 동일한 중량과 동일한 사이즈를 가지고 있다.\n",
    "# 가정_2 : 모든 차량은 11톤으로 통일한다.\n",
    "# 가정_3 : 모든 택배차량은 Unique한 vclcod가 부여된다.\n",
    "# 가정_4 : tmlcod와 vclcod는 0부터 차레대로 커지며 연속된 정수이다.\n",
    "\n",
    "\n",
    "\n",
    "\n",
    "#from __future__ import print_function\n",
    "from ortools.linear_solver import pywraplp\n",
    "from ortools.graph import pywrapgraph\n",
    "\n",
    "import pandas as pd\n",
    "import itertools\n",
    "import random\n",
    "import math\n",
    "\n",
    "# raw data 로드, dataframe형식\n",
    "f_t_dis = pd.read_csv(\"from_to_distance.csv\")\n",
    "f_t_dis_2 = pd.read_csv(\"from_to_distance_2.csv\")\n",
    "f_t_quan = pd.read_csv(\"f_t_quan.csv\")\n",
    "f_t_tml = pd.read_csv(\"f_t_tml.csv\")\n",
    "vclcod = pd.read_csv(\"vclcod.csv\")\n",
    "f_t_num = pd.read_csv(\"from_to_num.csv\")\n",
    "\n",
    "# solver정의\n",
    "solver = pywraplp.Solver.CreateSolver('SCIP')\n",
    "status = solver.Solve()\n",
    "infinity = solver.infinity()\n",
    "\n",
    "\n",
    "\n",
    "# 목적변수 생성\n",
    "\n",
    "#I = [int(x[-3:]) for x in vclcod.vclcod] # 차량의 등록 서브, \n",
    "I = [x for x in range(1000)]\n",
    "#P = [0, 1, 2, 3, 4, 5, 6, 7, 8, 9, 10, 11] # Period 시간 고려 변수, Time table을 참고하여 scale결정\n",
    "P = [0]\n",
    "N = [int(x[-3:]) for x in f_t_tml.tmlcod] # from node\n",
    "M = [int(x[-3:]) for x in f_t_tml.tmlcod] # to node\n",
    "S = [0, 1, 2, 3, 4, 5, 6] # 최대 6번까지 움직일 수 있음\n",
    "\n",
    "V = [] \n",
    "for i in range(len(I)):\n",
    "    V.append([])\n",
    "    for p in range(len(P)):\n",
    "        V[i].append([])\n",
    "        for n in range(len(N)):\n",
    "            V[i][p].append([])\n",
    "            for m in range(len(M)):\n",
    "                V[i][p][n].append([])\n",
    "                for s in range(len(S)):\n",
    "                    V[i][p][n][m].append([])\n",
    "\n",
    "for i, p, n, m, s in itertools.product(range(len(I)), range(len(P)), range(len(N)), range(len(M)), range(len(S))):\n",
    "    V[i][p][n][m][s] = solver.IntVar(0, 1, 'V_%d_%d_%d_%d_%d' %(i, p, n, m, s))\n",
    "\n",
    "\n",
    "print('Number of variables =', solver.NumVariables())\n",
    "\n",
    "# -------------------------\n",
    "\n",
    "\n",
    "\n",
    "\n",
    "# cost_matrix 생성 from n to m\n",
    "hud_node = [] # 허브 노드\n",
    "for i in range(len(N)):\n",
    "    if f_t_tml.tmltyp[i] == 'hub':\n",
    "        hud_node.append(i)\n",
    "\n",
    "cost_matrix = []\n",
    "for i in range(len(N)):\n",
    "    cost_matrix.append([])\n",
    "    for j in range(len(N)):\n",
    "        cost_matrix[i].append([])\n",
    "\n",
    "for n, m in itertools.product(range(len(N)), range(len(M))):\n",
    "    if N[i] in hud_node or M[i] in hud_node:\n",
    "        cost_matrix[n][m] = f_t_dis_2.loc[n][m]/2 #low index, col index순\n",
    "    else:\n",
    "        cost_matrix[n][m] = f_t_dis_2.loc[n][m]\n",
    "# ---------------------------\n",
    "\n",
    "# time_matrix 생성 from n to m, 1이상 4이하의 정수\n",
    "time_matrix = []\n",
    "for i in range(len(N)):\n",
    "    time_matrix.append([])\n",
    "    for j in range(len(N)):\n",
    "        time_matrix[i].append([])\n",
    "\n",
    "for n, m in itertools.product(range(len(N)), range(len(M))):\n",
    "        time_matrix[n][m] = math.ceil(f_t_dis_2.loc[n][m]/100) #low index, col index순\n",
    "# ---------------------------\n",
    "\n",
    "# quantity_matrix 생성 from n to m, box수\n",
    "quantity_matrix = []\n",
    "for i in range(len(N)):\n",
    "    quantity_matrix.append([])\n",
    "    for j in range(len(N)):\n",
    "        quantity_matrix[i].append([])\n",
    "\n",
    "for n, m in itertools.product(range(len(N)), range(len(M))):\n",
    "        quantity_matrix[n][m] = f_t_num.loc[n][m]\n",
    "\n",
    "# ---------------------------\n",
    "\n",
    "# 현재 물건의 위치 \n",
    "\n",
    "\n",
    "# Cosntraint\n",
    "# 제약_1: sequence는 연속되어야 함\n",
    "for i, p, n, m in itertools.product(I, P, N, M):\n",
    "    for s in range(len(S) - 1):\n",
    "        solver.Add(V[i][p][n][m][s] >= V[i][p][n][m][s+1])\n",
    "\n",
    "# 제약_2: \n",
    "# for n, m in itertools.product(N, M):\n",
    "#     solver.Add(quantity_matrix[n][m] <=\n",
    "#                sum([V[i][0][n][m][s] for i, s in itertools.product(I, S)]))\n",
    "for n, m in itertools.product(N, M):\n",
    "    solver.Add(\n",
    "        sum([V[i][0][n][m][s] for i, s in itertools.product(I, S)])\n",
    "        >= quantity_matrix[n][m])\n",
    "\n",
    "\n",
    "print('Number of constraints =', solver.NumConstraints())\n",
    "\n",
    "\n",
    "\n",
    "# Objective Function\n",
    "\n",
    "opt_value = 0\n",
    "\n",
    "p = 0\n",
    "for i, s in itertools.product(range(len(I)), range(len(S))):\n",
    "    for n, m in itertools.product(range(len(N)), range(len(M))):\n",
    "        opt_value += cost_matrix[n][m]*V[i][p][n][m][s]\n",
    "\n",
    "\n",
    "solver.Minimize(opt_value)\n",
    "\n",
    "status = solver.Solve()\n",
    "\n",
    "\n",
    "ans_V = []\n",
    "for i in range(len(I)):\n",
    "    ans_V.append([])\n",
    "    for p in range(len(P)):\n",
    "        ans_V[i].append([])\n",
    "        for n in range(len(N)):\n",
    "            ans_V[i][p].append([])\n",
    "            for m in range(len(M)):\n",
    "                ans_V[i][p][n].append([])\n",
    "                for s in range(len(S)):\n",
    "                    ans_V[i][p][n][m].append([])\n",
    "\n",
    "\n",
    "\n",
    "\n",
    "\n",
    "\n",
    "if status == pywraplp.Solver.OPTIMAL:\n",
    "    print('Solution:')\n",
    "    print('Objective value =', solver.Objective().Value())\n",
    "    # print('x =', x.solution_value())\n",
    "    # print('y =', y.solution_value())\n",
    "    for i, p, n, m, s in itertools.product(range(len(I)), range(len(P)), range(len(N)), range(len(M)), range(len(S))):\n",
    "        ans_V[i][p][n][m][s].append(V[i][p][n][m][s].solution_value())\n",
    "    \n",
    "    for i, p, n, m, s in itertools.product(range(len(I)), range(len(P)), range(len(N)), range(len(M)), range(len(S))):\n",
    "        if ans_V[i][p][n][m][s] == 1:\n",
    "            print(enumerate(ans_V[i][p][n][m][s]))\n",
    "    \n",
    "\n",
    "else:\n",
    "    print('The problem does not have an optimal solution.')\n",
    "\n",
    "print('\\nAdvanced usage:')\n",
    "print('Problem solved in %f milliseconds' % solver.wall_time())\n",
    "print('Problem solved in %d iterations' % solver.iterations())\n",
    "print('Problem solved in %d branch-and-bound nodes' % solver.nodes())"
   ]
  },
  {
   "cell_type": "code",
   "execution_count": 32,
   "metadata": {},
   "outputs": [
    {
     "data": {
      "text/plain": [
       "27"
      ]
     },
     "execution_count": 32,
     "metadata": {},
     "output_type": "execute_result"
    }
   ],
   "source": [
    "A = [[[1, 1 ,1],[1, 1 ,1],[1, 1 ,1]], \n",
    "     [[1, 1 ,1],[1, 1 ,1],[1, 1 ,1]],\n",
    "     [[1, 1 ,1],[1, 1 ,1],[1, 1 ,1]]]\n",
    "\n",
    "\n",
    "sum([A[i][j][k] for i, j, k in itertools.product(range(3), range(3), range(3))])"
   ]
  },
  {
   "cell_type": "code",
   "execution_count": null,
   "metadata": {},
   "outputs": [],
   "source": [
    "for i, n, m in itertools.product(I, N, M):\n",
    "    for s in range(len(S) - 1):\n",
    "        solver.Add(V[i][p-1][n][m][s] >= V[i][p][n][m][s+1])"
   ]
  },
  {
   "cell_type": "code",
   "execution_count": 2,
   "metadata": {},
   "outputs": [
    {
     "output_type": "execute_result",
     "data": {
      "text/plain": [
       "[0, 0, 0]"
      ]
     },
     "metadata": {},
     "execution_count": 2
    }
   ],
   "source": [
    "M = [0, 1, 2]\n",
    "[0 for x in range(len(M))]"
   ]
  },
  {
   "cell_type": "code",
   "execution_count": null,
   "metadata": {},
   "outputs": [],
   "source": [
    "Q = [[1, 2, 2, 1],[2, 0, 2, 0],[1, 0, 1, 0]]\n",
    "\n",
    "while Q != [[], [], []]:\n",
    "    for i in range(len(Q)):\n",
    "        for j in range(len(Q[i])):\n",
    "            tmp = Q[i].pop(j)\n",
    "            "
   ]
  },
  {
   "cell_type": "code",
   "execution_count": 3,
   "metadata": {},
   "outputs": [
    {
     "output_type": "stream",
     "name": "stdout",
     "text": [
      "12\n"
     ]
    }
   ],
   "source": [
    "Q = [[1, 2, 2, 1],[2, 0, 2, 0],[1, 0, 1, 0]]\n",
    "\n",
    "chk = 0\n",
    "\n",
    "while Q != [[0, 0, 0, 0],[1, 1, 1, 1],[2, 2, 2, 2]]:\n",
    "    for j in range(len(Q)):\n",
    "        try:\n",
    "            for k in range(len(Q[j])):\n",
    "                if Q[j][k] != j:\n",
    "                    Q[Q[j][k]].append(Q[j].pop(k))\n",
    "                    #print('%s -> %s' %())\n",
    "                    chk += 1\n",
    "        except:\n",
    "            pass\n",
    "\n",
    "\n",
    "print(chk)"
   ]
  },
  {
   "cell_type": "code",
   "execution_count": 4,
   "metadata": {},
   "outputs": [
    {
     "output_type": "stream",
     "name": "stdout",
     "text": [
      "허브에서 혼재되는 것을 어떻게 표현하냐고 싯파\n"
     ]
    }
   ],
   "source": [
    "print('허브에서 혼재되는 것을 어떻게 표현하냐고 싯파')"
   ]
  },
  {
   "cell_type": "code",
   "execution_count": 72,
   "metadata": {},
   "outputs": [
    {
     "output_type": "stream",
     "name": "stdout",
     "text": [
      "재밌다 정말 알고리즘 파이썬\n"
     ]
    }
   ],
   "source": [
    "def reverser(string1, p1=0, p2=None):\n",
    "    if len(string1) < 2:\n",
    "        return string1\n",
    "    p2 = p2 or len(string1)-1\n",
    "    while p1 < p2:\n",
    "        string1[p1], string1[p2] = string1[p2], string1[p1]\n",
    "        p1 += 1\n",
    "        p2 -= 1\n",
    "\n",
    "\n",
    "def reversing_words_setence_logic(string1):\n",
    "    # 먼저, 문장 전체를 반전한다.\n",
    "    reverser(string1)\n",
    "    # print(string1)\n",
    "    p = 0\n",
    "    start = 0\n",
    "    while p < len(string1):\n",
    "        if string1[p] == u\"\\u0020\":\n",
    "            # 단어를 다시 반전한다(단어를 원위치로 돌려놓는다).\n",
    "            reverser(string1, start, p-1)\n",
    "            # print(string1)\n",
    "            start = p+1\n",
    "        p += 1\n",
    "    # 마지막 단어를 반전한다(단어를 원위치로 돌려놓는다).\n",
    "    reverser(string1, start, p-1)\n",
    "    # print(string1)\n",
    "    return ''.join(string1)\n",
    "\n",
    "\n",
    "if __name__ == \"__main__\":\n",
    "    str1 = \"파이썬 알고리즘 정말 재밌다\"\n",
    "    str2 = reversing_words_setence_logic(list(str1))\n",
    "    print(str2)"
   ]
  },
  {
   "cell_type": "code",
   "execution_count": 78,
   "metadata": {},
   "outputs": [
    {
     "output_type": "execute_result",
     "data": {
      "text/plain": [
       "0"
      ]
     },
     "metadata": {},
     "execution_count": 78
    }
   ],
   "source": [
    "5//3\n",
    "3//5"
   ]
  },
  {
   "cell_type": "code",
   "execution_count": 83,
   "metadata": {},
   "outputs": [
    {
     "output_type": "stream",
     "name": "stdout",
     "text": [
      "5\n3\n"
     ]
    }
   ],
   "source": [
    "a, b = map(int, input().strip().split(' '))\n",
    "print(a)\n",
    "print(b)"
   ]
  },
  {
   "cell_type": "code",
   "execution_count": null,
   "metadata": {},
   "outputs": [],
   "source": []
  }
 ],
 "metadata": {
  "kernelspec": {
   "display_name": "Python 3",
   "language": "python",
   "name": "python3"
  },
  "language_info": {
   "codemirror_mode": {
    "name": "ipython",
    "version": 3
   },
   "file_extension": ".py",
   "mimetype": "text/x-python",
   "name": "python",
   "nbconvert_exporter": "python",
   "pygments_lexer": "ipython3",
   "version": "3.9.1-final"
  }
 },
 "nbformat": 4,
 "nbformat_minor": 4
}